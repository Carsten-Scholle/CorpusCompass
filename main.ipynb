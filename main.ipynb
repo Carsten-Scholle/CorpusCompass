{
 "cells": [
  {
   "cell_type": "markdown",
   "source": [
    "# Introduction\n",
    "This code is meant for automatically transform an annotated corpora to a dataset in `csv` format.\n",
    "While we do have a standard for annotations, instruction to adapt the code to your annotation syntax are available below.\n",
    "\n",
    "If you find any problems or request some features update please do so with [this form](https://github.com/nicofirst1/TranscriptionTagger/issues/new/choose)."
   ],
   "metadata": {
    "collapsed": false
   }
  },
  {
   "cell_type": "markdown",
   "source": [
    "# Setup\n",
    "\n",
    "Run this to copy the necessary files in your colab.\n",
    "If it says something like:\n",
    "```fatal: destination path 'TranscriptionTagger' already exists and is not an empty directory.```\n",
    "You can ignore it"
   ],
   "metadata": {
    "collapsed": false
   }
  },
  {
   "cell_type": "code",
   "execution_count": null,
   "outputs": [],
   "source": [
    "!git clone https://github.com/nicofirst1/TranscriptionTagger"
   ],
   "metadata": {
    "collapsed": false
   }
  },
  {
   "cell_type": "markdown",
   "metadata": {},
   "source": [
    "Import necessary libraries"
   ]
  },
  {
   "cell_type": "code",
   "execution_count": null,
   "metadata": {},
   "outputs": [],
   "source": [
    "import csv\n",
    "import json\n",
    "import re\n",
    "from copy import copy\n",
    "import os\n",
    "from google.colab import files"
   ]
  },
  {
   "cell_type": "markdown",
   "metadata": {},
   "source": [
    "# Custom files and settings\n",
    "\n",
    "In this section we will define some settings for your transcription!\n",
    "We will start with the variables you defined and move on to how to find them in your annotated corpus (REGEX)."
   ]
  },
  {
   "cell_type": "markdown",
   "metadata": {},
   "source": [
    "## Variables\n",
    "\n",
    "### Defining variables with JSON\n",
    "When annotating your data, you will for sure use some variables. These variables may have a hierarchical structure, where one category includes many variations. To allow the program to find your variables you have to build a \"dictionary\" where you specify them.\n",
    "Here, we use JSON files that allow you to come up with how many categories and variables you want in a clear and defined manner. Check out the [introduction to JSON tutorial](https://www.w3schools.com/js/js_json_intro.asp) if you are not familiar with it.\n",
    "You can also look at the  [dependent variables](./dependent_variables.json) we are using in this project.\n",
    "\n",
    "### Your files\n",
    "Now that you are familiar with how the JSON syntax work, we need to define what your variables are. Here you have two options, depending on the option you choose you will need to run different cells.\n",
    "\n",
    "#### 1. Use the default variables file\n",
    "At the moment there are two files, one for [dependent variables](./dependent_variables.json) and one for [independent variables](./independent_variables.json) in this code. If you open these link you will see the original files (not modificable), but you can open them from this web page on the top right (check out [this tutorial](https://neptune.ai/blog/google-colab-dealing-with-files) on how to access local files system to google colab, point 4), you can find the files inside the `TranscriptionTagger` directory."
   ]
  },
  {
   "cell_type": "code",
   "execution_count": null,
   "metadata": {},
   "outputs": [],
   "source": [
    "dependent_variable_path = 'TranscriptionTagger/dependent_variables.json'\n",
    "independent_variable_path = 'TranscriptionTagger/independent_variables.json'\n",
    "\n",
    "variable_files=[dependent_variable_path, independent_variable_path]\n",
    "variable_files=[open(path, \"r+\") for path in variable_files]\n",
    "variable_files=[x.read() for x in variable_files]\n",
    "variable_files"
   ]
  },
  {
   "cell_type": "markdown",
   "metadata": {},
   "source": [
    "#### 2. Upload your own files\n",
    "Here you can upload your own variable files as long as they are still in JSON format. You can upload how many files you want."
   ]
  },
  {
   "cell_type": "code",
   "execution_count": null,
   "metadata": {},
   "outputs": [],
   "source": [
    "variable_files=files.upload()\n",
    "\n",
    "for fn in variable_files.keys():\n",
    "    if \".json\" not in fn:\n",
    "        raise FileNotFoundError(f\"File {fn} is not a JSON file!\")\n",
    "    print('User uploaded file \"{name}\" with length {length} bytes'.format(\n",
    "      name=fn, length=len(variable_files[fn])))\n",
    "\n",
    "variable_files=list(variable_files.values())\n",
    "\n",
    "# decode\n",
    "variable_files=[x.decode(\"utf8\") for x in variable_files]\n",
    "variable_files"
   ]
  },
  {
   "cell_type": "markdown",
   "metadata": {},
   "source": [
    "## Regular Expressions (REGEX)\n",
    "\n",
    "Now it's time to define the regular regular expressions (REGEX) to find your annotation in the corpus.\n",
    "\n",
    "In our project each annotation is contained in square brackets and starts with a dollar sign. The variables are divided by a dot (without spaces) and the last element after the dot is the annotated word (with spaces).\n",
    "For example : `[$variable1.variable2.annotated word]`\n",
    "\n",
    "To come up with a new tag REGEX you can use [regex101](https://regex101.com/). To check out how it works, open  [regex101](https://regex101.com/). Copy-paste the\n",
    "content of `square_regex` (`(\\[\\$[\\S ]*?\\])`) into the regular expression bar (on the top) and a sample paragraph in the test string (on the bottom), e.g.:\n",
    "```\n",
    "S    akiid, akiid, bi l [$G-OTH.fooxinende], aa, yaʕni il jumʕa la bass ʕidna sabit uu aħħad iħna [$DEM-HAAY.haay] [$G-OTH.daayrakt] leen il alwaad ʕidna       aa, iða j jaww [$IA.kulliʃ] [$IA.zeen] insawwi maʃaawi, w iða j jaww mu [$IA.zeen], insawwi yaʕni l aklaat illi tijmaʕ il ʕaaʔila, tiðakkiriin iħna l ʕiraaqiyiin         id dooLMa, w is [$CK.simaC], (laughing), w il lamma l ħilwa w il aħfaad, fa insawwi [$IA.CK.hiiCi]          bass il yoom la yaʕni innu aani w il ħajji [$GQ.gaaʕdiin], akθar il marraat nugʕud iS SuBiħ [$IA.nitrayyag], baʕdeen il, il gahwa uu baʕdeen nuqʕud insoolif, inʃuuf [$IA.ʃinu] ʕidna maʃaariiʕ, niTLaʕ maθalan irruuħ nimʃi [$IA.fadd] niSS saaʕa saaʕa\n",
    "```\n",
    "\n",
    "Define the REGEXs:"
   ]
  },
  {
   "cell_type": "code",
   "execution_count": null,
   "metadata": {},
   "outputs": [],
   "source": [
    "square_regex = re.compile(r\"(\\[\\$[\\S ]*?\\])\")\n",
    "feat_regex = re.compile(r'\\[\\$([\\S ]*?)\\]')\n",
    "sequence_regex = re.compile(r\"({[\\S ]+})\")"
   ]
  },
  {
   "cell_type": "markdown",
   "metadata": {},
   "source": [
    "## Transcription file\n",
    "Finally, you need to upload your transcription file. This is the filed containing your annotated corpus.\n"
   ]
  },
  {
   "cell_type": "code",
   "execution_count": null,
   "outputs": [],
   "source": [
    "# DONT USE THIS, IT IS JUST FOR DEBUG\n",
    "\n",
    "if False:\n",
    "    transcription_path=\"/home/dizzi/Downloads/input.txt\"\n",
    "    with open(transcription_path, \"r+\", encoding=\"utf16\") as f:\n",
    "        transcription_text=f.read()\n"
   ],
   "metadata": {
    "collapsed": false
   }
  },
  {
   "cell_type": "code",
   "execution_count": null,
   "metadata": {},
   "outputs": [],
   "source": [
    "transcription_path = files.upload()\n",
    "\n",
    "assert len(transcription_path) ==1 , \"Support for multiple transcription file is not available! Please upload just one file\"\n",
    "transcription_text=list(transcription_path.values())[0]\n",
    "transcription_path=list(transcription_path.keys())[0]\n",
    "\n",
    "transcription_text=transcription_text.decode(\"utf16\")\n",
    "\n",
    "# print first 50 character of the transcription file\n",
    "print(\"\\n\\n First 400 characters:\\n\")\n",
    "transcription_text[:400]"
   ]
  },
  {
   "cell_type": "markdown",
   "metadata": {},
   "source": [
    "## Output file\n",
    "\n",
    "In order to obtain the comma separated values (`csv`) file, you can specify the separator. By default the separator value is a comma (as the name implies), but you can also use:\n",
    "- semicolon: `;`\n",
    "- comma: `,`\n",
    "- tab : `\\t`\n",
    "\n",
    "In our project we use the tab, since it is the one that allows excel to view it (for Germany the default value is tab)."
   ]
  },
  {
   "cell_type": "code",
   "execution_count": null,
   "metadata": {},
   "outputs": [],
   "source": [
    "separator = '\\t'"
   ]
  },
  {
   "cell_type": "markdown",
   "metadata": {},
   "source": [
    "# Helper functions\n",
    "Following some functions that we will use later in the code."
   ]
  },
  {
   "cell_type": "code",
   "execution_count": null,
   "metadata": {},
   "outputs": [],
   "source": [
    "def remove_features(corpus):\n",
    "    \"\"\"\n",
    "    Remove the features from the corpus\n",
    "    \"\"\"\n",
    "    corpus = copy(corpus)\n",
    "    words = square_regex.findall(corpus)\n",
    "    for w in words:\n",
    "        try:\n",
    "            text = w.rsplit(\".\", 1)[1][:-1]\n",
    "            corpus = corpus.replace(w, text)\n",
    "        except IndexError:\n",
    "            print(f\"I found an error for the tag '{w}'. Myabe it does not have a point in it?\\n\"\n",
    "                        f\"Please check the tag and try again.\", \"error\")\n",
    "            exit()\n",
    "            continue\n",
    "    return corpus\n",
    "\n",
    "def get_name(line):\n",
    "    return line.split(\" \")[0]"
   ]
  },
  {
   "cell_type": "markdown",
   "metadata": {},
   "source": [
    "# Main program\n",
    "Time to start the main program. First let us merge all the variables we uploaded before"
   ]
  },
  {
   "cell_type": "code",
   "execution_count": null,
   "metadata": {},
   "outputs": [],
   "source": [
    "variable_files=[json.loads(f) for f in variable_files]\n",
    "\n",
    "variable_dict = {}\n",
    "\n",
    "for j in variable_files:\n",
    "    for k,v in j.items():\n",
    "        if k in variable_dict.keys():\n",
    "            print(f\"Warning : I have found a duplicate variable named '{k}' with values '{v}'. \"\n",
    "                  f\"If this is expected ignore this message, otherwise check the variables files for duplicates!\")\n",
    "        variable_dict[k]=v\n",
    "\n",
    "\n",
    "\n",
    "# get an inverse of the dependent variable\n",
    "idv = {}\n",
    "for k, v in variable_dict.items():\n",
    "    if isinstance(v, list):\n",
    "        for i in v:\n",
    "            idv[i] = k\n",
    "    else:\n",
    "        idv[v] = k\n",
    "\n",
    "print(\"Correctly loaded all the variables. Check them out to see if there are any errors\")\n",
    "print(json.dumps(variable_dict,sort_keys=True, indent=4))"
   ]
  },
  {
   "cell_type": "markdown",
   "metadata": {},
   "source": [
    "## Preprocessing transcriptions\n",
    "Based on your type of annotated corpus (aka transcription) you will need to preprocess the file. Here we have 4 steps.\n",
    "Feel free to comment out (add `#` at the start of the line) any preprocessing that does not fit your criteria.\n",
    "To give you a sense of our transcriptions here is how the first 5 paragraphs look like:\n",
    "\n",
    "```\n",
    "file:///aishug294879ryshfda9763afo8947a5gf\n",
    "2022 Oct 21, Fri 10:30\n",
    "\n",
    "B       marħaba ʕeeni ʃ axbaariC, iħna niʃakkariC ihwaaya lennahu, ey    fitaħtuulna beetkum uu istaqbaltuuna             hm, iħCiilna l yoom iʃ sawweeti, ʃinu Caan maʃruuʕiC aSLan, (laughing)     hm  ey  hm  ii bi l ʕaafya      ey  ahh  (laughing)  Caan huwwa imxaTTiT innu tijiin inti haaða l isbuuʕ\n",
    "S           halow ħabiibti, halow ʕeeni, il ħam..., (...) baSiiTa itdallili uu haaða abSaT ʃii insawwiilkumiyaa            yaa miyyat hala biikum    il yoom? il yoom ma ʕindi ʃii, aa, mit... mittafqiin ʕal [$MAAL.mawʕid maalatkum] il yoom, fa [$SS-DIF.gaʕadt] iS Subiħ, aa sawweet [$OTH-SA.SS-DIF.ifTuur] aani w il ħajji, rayyagta ab... aLLa [$CK.yʕaafiiC] uu baʕdeen ijeet ʕala mawʕidna [??ihnaana], [$GQ.gaaʕda] antiDurkum, SaLLeet, ma ʕindi ʃii baʕad, da antiDurkum, (laughing)      ey liʔannahu mittafqiin ʕa l mawʕid fa ma [$GQ.nigdar] inɣayyra\n",
    "\n",
    "\n",
    "B   eh, la, yaʕni aa, waħħad ʕan il mawʕid Caan inti yaʕni ʕindiC ɣeer barnaamij maθalan bi l fooxinende        ey  hm  ee, id doo...,(laughing), ii, (laughing), w il lamma l ħilwa, (laughing)   ee  ey          hm  ey  hm, ħeel zeen\n",
    "S    akiid, akiid, bi l [$G-OTH.fooxinende], aa, yaʕni il jumʕa la bass ʕidna sabit uu aħħad iħna [$DEM-HAAY.haay] [$G-OTH.daayrakt] leen il alwaad ʕidna       aa, iða j jaww [$IA.kulliʃ] [$IA.zeen] insawwi maʃaawi, w iða j jaww mu [$IA.zeen], insawwi yaʕni l aklaat illi tijmaʕ il ʕaaʔila, tiðakkiriin iħna l ʕiraaqiyiin         id dooLMa, w is [$CK.simaC], (laughing), w il lamma l ħilwa w il aħfaad, fa insawwi [$IA.CK.hiiCi]          bass il yoom la yaʕni innu aani w il ħajji [$GQ.gaaʕdiin], akθar il marraat nugʕud iS SuBiħ [$IA.nitrayyag], baʕdeen il, il gahwa uu baʕdeen nuqʕud insoolif, inʃuuf [$IA.ʃinu] ʕidna maʃaariiʕ, niTLaʕ maθalan irruuħ nimʃi [$IA.fadd] niSS saaʕa saaʕa\n",
    "\n",
    "```\n",
    "As you can see our file structure contains two lines with the file name and date, then an empty lines and then a repeating structure of the kind:\n",
    "- interviewer name (`B`), tab, paragraph, newline\n",
    "- interviewee name (`S`), tab, paragraph, newline"
   ]
  },
  {
   "cell_type": "code",
   "execution_count": null,
   "metadata": {},
   "outputs": [],
   "source": [
    "# step 1: split the whole corpus in different elements every new line, creating a list of paragraphs. For us this means splitting interviewer and interviewee in different paragraphs\n",
    "trans= transcription_text.split(\"\\n\")\n",
    "# step 2: our first two paragraphs are the file name and the date, which we don't need so discard them\n",
    "trans = trans[2:]\n",
    "# step 3: remove spaces at the start and end of each paragraph\n",
    "trans = [x.strip() for x in trans]\n",
    "# step 4 : remove empty paragraphs from the list\n",
    "trans = [x for x in trans if x != '']\n",
    "\n",
    "# take a peek at the first four paragraphs\n",
    "for idx in range(3):\n",
    "    print(trans[idx])"
   ]
  },
  {
   "cell_type": "markdown",
   "metadata": {},
   "source": []
  },
  {
   "cell_type": "markdown",
   "metadata": {},
   "source": [
    "### Interviewers and Interviewees\n",
    "As you can see form the previous example, we consider a file where we have only one interviewer and one interviewee alternating each other. But it can be the case where you have multiple interviewers and interviewees in random order. In this case we need to know the names of the interviewers in order to split them from the interviewees.\n",
    "\n",
    "If you need to add multiple interviewers run the following cell after adding the names\n"
   ]
  },
  {
   "cell_type": "code",
   "execution_count": null,
   "metadata": {},
   "outputs": [],
   "source": [
    "#interviewers = \"name1,name2,...,nameN\"\n",
    "interviewers=\"\""
   ]
  },
  {
   "cell_type": "markdown",
   "metadata": {},
   "source": [
    "Get the interviewers"
   ]
  },
  {
   "cell_type": "code",
   "execution_count": null,
   "metadata": {},
   "outputs": [],
   "source": [
    "# if user specified the interviewer's names then take that\n",
    "if len(interviewers) > 0:\n",
    "    interviewers = interviewers.split(',')\n",
    "    # remove spaces\n",
    "    interviewers = [x.strip() for x in interviewers]\n",
    "else:\n",
    "    # else use the first character of the transcription\n",
    "    interviewers = [trans[0][0]]\n",
    "\n",
    "print(f\"The selected interviewers are: {', '.join(interviewers)}\")"
   ]
  },
  {
   "cell_type": "markdown",
   "metadata": {},
   "source": [
    "### Output file settings\n",
    "Now it's time to create the output file.\n",
    "\n",
    "The output file will have the same name as the transcription one but with `_output.csv` at the end"
   ]
  },
  {
   "cell_type": "code",
   "execution_count": null,
   "metadata": {},
   "outputs": [],
   "source": [
    "# get the name of the output path\n",
    "output_path=os.path.basename(transcription_path)\n",
    "output_path=os.path.splitext(output_path)[0]+\"_output.csv\"\n",
    "output_path"
   ]
  },
  {
   "cell_type": "markdown",
   "metadata": {},
   "source": [
    "It can be useful to add the previous paragraph in the final csv file. For example, when examining an annotation, you want to know what the previous speaker said before the current one. If you are interested in this information being in the final output set `previous_line` to `True`, else leave it `False`"
   ]
  },
  {
   "cell_type": "code",
   "execution_count": null,
   "metadata": {},
   "outputs": [],
   "source": [
    "#previous_line = True\n",
    "previous_line = False"
   ]
  },
  {
   "cell_type": "markdown",
   "metadata": {},
   "source": [
    "The output is a csv file and it needs a header. For this reason herre we define the header as the following elements:\n",
    "- the `text` for the annotated words\n",
    "- the complete list of variables\n",
    "- (Optional) the previous line\n",
    "- The sentence in which the text was found\n",
    "- an `unk` (unknown) category for variables that were found in the annotations but not present in the variable files (useful to catch some errors)"
   ]
  },
  {
   "cell_type": "code",
   "execution_count": null,
   "metadata": {},
   "outputs": [],
   "source": [
    "\n",
    "# compile regex to find features\n",
    "csv_header = list(variable_dict.keys())\n",
    "\n",
    "# define the end of the csv\n",
    "csv_end = ['sequence in sentence', 'unk']\n",
    "if previous_line:\n",
    "    csv_end.insert(0, 'previous line')\n",
    "csv_header = [\"text\"] + csv_header + csv_end\n",
    "csv_file = [csv_header]\n",
    "unk_categories = []\n",
    "\n",
    "print(f\"The csv header looks like this\")\n",
    "csv_header"
   ]
  },
  {
   "cell_type": "markdown",
   "metadata": {},
   "source": [
    "### Finding interviewees\n",
    "\n",
    "This part looks for all the names present in the file"
   ]
  },
  {
   "cell_type": "code",
   "execution_count": null,
   "metadata": {},
   "outputs": [],
   "source": [
    "\n",
    "# get interviewer/interviewees names\n",
    "names = [get_name(x).strip() for x in trans]\n",
    "names = set(names)\n",
    "\n",
    "# remove all mention of interviwers in names\n",
    "for i in interviewers:\n",
    "    names = [x for x in names if i not in x]\n",
    "interviewees = list(names)\n",
    "\n",
    "# notify user about names\n",
    "print(f\"I found the following interviewees names: {', '.join(interviewees)}\")"
   ]
  },
  {
   "cell_type": "markdown",
   "metadata": {},
   "source": [
    "### Starting the main loop\n",
    "This part starts the main loop."
   ]
  },
  {
   "cell_type": "code",
   "execution_count": null,
   "metadata": {},
   "outputs": [],
   "source": [
    "\n",
    "# for every paragraph in the transcript\n",
    "for idx in range(len(trans)):\n",
    "    c = trans[idx]\n",
    "\n",
    "    # get the paragraph without features\n",
    "    if get_name(c) in interviewees:\n",
    "        sp = trans[idx - 1]\n",
    "    else:\n",
    "        continue\n",
    "    clean_p = remove_features(c)\n",
    "\n",
    "    # capture all the sequences\n",
    "    sequences = sequence_regex.finditer(clean_p)\n",
    "    sequences = [(x.start(), x.end(), x.group()) for x in sequences]\n",
    "\n",
    "    # get the features\n",
    "    tags = feat_regex.finditer(c)\n",
    "\n",
    "    # for every tags with features in the paragraph\n",
    "    for t in tags:\n",
    "        # get index of result + tag\n",
    "        index = t.start()\n",
    "        t = t.group(1)\n",
    "\n",
    "        # initialize empty row\n",
    "        csv_line = [\"\" for _ in range(len(csv_header))]\n",
    "\n",
    "        # get the features\n",
    "        feats = t.rsplit(\".\", 1)\n",
    "        text = feats[1]\n",
    "        feats = feats[0]\n",
    "\n",
    "        # for every feature in the word\n",
    "        for f in feats.split(\".\"):\n",
    "            # if the category is not present in the dict, then add to unk\n",
    "            if f not in idv.keys():\n",
    "                unk_categories.append(f)\n",
    "                csv_line[-1] = csv_line[-1] + f + \",\"\n",
    "            else:\n",
    "                category = idv[f]\n",
    "                cat_idx = csv_header.index(category)\n",
    "                csv_line[cat_idx] = f\n",
    "\n",
    "        # add initial infos and final unk to the line\n",
    "        csv_line[0] = text\n",
    "        if previous_line:\n",
    "            csv_line[-3] = sp\n",
    "\n",
    "        # add the sequence to the line\n",
    "        if len(sequences) != 0:\n",
    "            for s in sequences:\n",
    "                seq_start, seq_end, seq = sequences[0]\n",
    "                if seq_start < index < seq_end:\n",
    "                    seq = seq.replace(\"{\", \"\").replace(\"}\", \"\")\n",
    "                    csv_line[-2] = seq\n",
    "        csv_line[-1] = csv_line[-1].strip(\",\")\n",
    "        csv_file.append(csv_line)"
   ]
  },
  {
   "cell_type": "markdown",
   "metadata": {},
   "source": [
    "## Saving the output\n",
    "Finally, we need to save the output in the csv file"
   ]
  },
  {
   "cell_type": "code",
   "execution_count": null,
   "metadata": {},
   "outputs": [],
   "source": [
    "\n",
    "# write the csv\n",
    "with open(output_path, \"w\", newline=\"\", encoding=\"utf16\") as f:\n",
    "    writer = csv.writer(f, delimiter=separator)\n",
    "    writer.writerows(csv_file)\n",
    "print(f\"Done!\\nFile has been saved in '{output_path}'\")"
   ]
  },
  {
   "cell_type": "markdown",
   "source": [
    "If you want to download it right away run this cell:"
   ],
   "metadata": {
    "collapsed": false
   }
  },
  {
   "cell_type": "code",
   "execution_count": null,
   "outputs": [],
   "source": [
    "files.download(output_path)"
   ],
   "metadata": {
    "collapsed": false
   }
  },
  {
   "cell_type": "markdown",
   "metadata": {},
   "source": [
    "### Unk categories\n",
    "Here, we print the unknown category if we found any."
   ]
  },
  {
   "cell_type": "code",
   "execution_count": null,
   "metadata": {},
   "outputs": [],
   "source": [
    "\n",
    "if len(unk_categories) > 0:\n",
    "    unk_categories = set(unk_categories)\n",
    "    unk_categories = sorted(unk_categories)\n",
    "    print(print(\n",
    "        f\"I have found several categories not listed in your variable file.\\n\"\n",
    "        f\"Following in alphabetical order:\"))\n",
    "    for idx,c in enumerate(unk_categories):\n",
    "        print(idx,f\"'{c}'\")"
   ]
  }
 ],
 "metadata": {
  "kernelspec": {
   "display_name": "Python 3",
   "language": "python",
   "name": "python3"
  },
  "language_info": {
   "codemirror_mode": {
    "name": "ipython",
    "version": 3
   },
   "file_extension": ".py",
   "mimetype": "text/x-python",
   "name": "python",
   "nbconvert_exporter": "python",
   "pygments_lexer": "ipython3",
   "version": "3.10.6"
  }
 },
 "nbformat": 4,
 "nbformat_minor": 2
}
